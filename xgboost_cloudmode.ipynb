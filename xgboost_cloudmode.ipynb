{
 "cells": [
  {
   "cell_type": "code",
   "execution_count": 8,
   "metadata": {},
   "outputs": [],
   "source": [
    "import numpy as np\n",
    "import pandas as pd\n",
    "\n",
    "# Define IAM role\n",
    "import boto3\n",
    "import re\n",
    "import sagemaker\n",
    "from sagemaker import get_execution_role\n",
    "\n",
    "# SageMaker SDK Documentation: http://sagemaker.readthedocs.io/en/latest/estimators.html"
   ]
  },
  {
   "cell_type": "markdown",
   "metadata": {},
   "source": [
    "## Upload csv"
   ]
  },
  {
   "cell_type": "code",
   "execution_count": 4,
   "metadata": {},
   "outputs": [],
   "source": [
    "bucket_name = 'arch-ml-bucket-us-east-1'\n",
    "training_file_key = 'biketrain/bike_train.csv'\n",
    "validation_file_key = 'biketrain/bike_validation.csv'\n",
    "test_file_key = 'biketrain/bike_test.csv'\n",
    "\n",
    "s3_model_output_location = r's3://{0}/biketrain/model'.format(bucket_name)\n",
    "s3_training_file_location = r's3://{0}/{1}'.format(bucket_name,training_file_key)\n",
    "s3_validation_file_location = r's3://{0}/{1}'.format(bucket_name,validation_file_key)\n",
    "s3_test_file_location = r's3://{0}/{1}'.format(bucket_name,test_file_key)"
   ]
  },
  {
   "cell_type": "code",
   "execution_count": 5,
   "metadata": {},
   "outputs": [
    {
     "name": "stdout",
     "output_type": "stream",
     "text": [
      "s3://arch-ml-bucket-us-east-1/biketrain/model\n",
      "s3://arch-ml-bucket-us-east-1/biketrain/bike_train.csv\n",
      "s3://arch-ml-bucket-us-east-1/biketrain/bike_validation.csv\n",
      "s3://arch-ml-bucket-us-east-1/biketrain/bike_test.csv\n"
     ]
    }
   ],
   "source": [
    "print(s3_model_output_location)\n",
    "print(s3_training_file_location)\n",
    "print(s3_validation_file_location)\n",
    "print(s3_test_file_location)"
   ]
  },
  {
   "cell_type": "code",
   "execution_count": 4,
   "metadata": {},
   "outputs": [],
   "source": [
    "# Write and Reading from S3 is just as easy\n",
    "# files are referred as objects in S3.  \n",
    "# file name is referred as key name in S3\n",
    "# Files stored in S3 are automatically replicated across 3 different availability zones \n",
    "# in the region where the bucket was created.\n",
    "\n",
    "# http://boto3.readthedocs.io/en/latest/guide/s3.html\n",
    "def write_to_s3(filename, bucket, key):\n",
    "    with open(filename,'rb') as f: # Read in binary mode\n",
    "        return boto3.Session().resource('s3').Bucket(bucket).Object(key).upload_fileobj(f)"
   ]
  },
  {
   "cell_type": "code",
   "execution_count": 5,
   "metadata": {},
   "outputs": [],
   "source": [
    "write_to_s3('bike_train.csv', bucket_name,training_file_key)\n",
    "write_to_s3('bike_validation.csv', bucket_name,validation_file_key)\n",
    "write_to_s3('bike_test.csv', bucket_name,test_file_key)"
   ]
  },
  {
   "cell_type": "markdown",
   "metadata": {},
   "source": [
    "## Get Training Algorithm Docker Image"
   ]
  },
  {
   "cell_type": "code",
   "execution_count": 10,
   "metadata": {},
   "outputs": [],
   "source": [
    "# Registry Path for algorithms provided by SageMaker\n",
    "#  https://docs.aws.amazon.com/sagemaker/latest/dg/sagemaker-algo-docker-registry-paths.html\n",
    "containers = {'us-west-2': '433757028032.dkr.ecr.us-west-2.amazonaws.com/xgboost:latest',\n",
    "              'us-east-1': '811284229777.dkr.ecr.us-east-1.amazonaws.com/xgboost:latest',\n",
    "              'us-east-2': '825641698319.dkr.ecr.us-east-2.amazonaws.com/xgboost:latest',\n",
    "              'eu-west-1': '685385470294.dkr.ecr.eu-west-1.amazonaws.com/xgboost:latest'}"
   ]
  },
  {
   "cell_type": "code",
   "execution_count": 11,
   "metadata": {},
   "outputs": [],
   "source": [
    "role = get_execution_role()"
   ]
  },
  {
   "cell_type": "code",
   "execution_count": 12,
   "metadata": {},
   "outputs": [
    {
     "name": "stdout",
     "output_type": "stream",
     "text": [
      "arn:aws:iam::497576017422:role/service-role/AmazonSageMaker-ExecutionRole-20190426T115051\n"
     ]
    }
   ],
   "source": [
    "# This role contains the permissions needed to train, deploy models\n",
    "# SageMaker Service is trusted to assume this role\n",
    "print(role)"
   ]
  },
  {
   "cell_type": "markdown",
   "metadata": {},
   "source": [
    "## Build Model"
   ]
  },
  {
   "cell_type": "code",
   "execution_count": 9,
   "metadata": {},
   "outputs": [],
   "source": [
    "sess = sagemaker.Session()"
   ]
  },
  {
   "cell_type": "code",
   "execution_count": 10,
   "metadata": {},
   "outputs": [],
   "source": [
    "# Access appropriate algorithm container image\n",
    "#  Specify how many instances to use for distributed training and what type of machine to use\n",
    "#  Finally, specify where the trained model artifacts needs to be stored\n",
    "#   Reference: http://sagemaker.readthedocs.io/en/latest/estimators.html\n",
    "#    Optionally, give a name to the training job using base_job_name\n",
    "\n",
    "estimator = sagemaker.estimator.Estimator(containers[boto3.Session().region_name],\n",
    "                                       role, \n",
    "                                       train_instance_count=1, \n",
    "                                       train_instance_type='ml.m4.xlarge',\n",
    "                                       output_path=s3_model_output_location,\n",
    "                                       sagemaker_session=sess,\n",
    "                                       base_job_name ='xgboost-biketrain-v1')"
   ]
  },
  {
   "cell_type": "code",
   "execution_count": 13,
   "metadata": {},
   "outputs": [],
   "source": [
    "# Specify hyper parameters that appropriate for the training algorithm\n",
    "# XGBoost Training Parameter Reference: \n",
    "#   https://github.com/dmlc/xgboost/blob/master/doc/parameter.md\n",
    "\n",
    "# Same as those in localmode\n",
    "estimator.set_hyperparameters(max_depth=3,objective=\"reg:linear\",\n",
    "                              eta=0.3,subsample=1,num_round=100)"
   ]
  },
  {
   "cell_type": "code",
   "execution_count": 14,
   "metadata": {},
   "outputs": [
    {
     "data": {
      "text/plain": [
       "{'max_depth': 3,\n",
       " 'objective': 'reg:linear',\n",
       " 'eta': 0.3,\n",
       " 'subsample': 1,\n",
       " 'num_round': 100}"
      ]
     },
     "execution_count": 14,
     "metadata": {},
     "output_type": "execute_result"
    }
   ],
   "source": [
    "estimator.hyperparameters()"
   ]
  },
  {
   "cell_type": "markdown",
   "metadata": {},
   "source": [
    "## Train"
   ]
  },
  {
   "cell_type": "code",
   "execution_count": 15,
   "metadata": {},
   "outputs": [],
   "source": [
    "# content type can be libsvm or csv for XGBoost\n",
    "training_input_config = sagemaker.session.s3_input(s3_data=s3_training_file_location,content_type=\"csv\")\n",
    "validation_input_config = sagemaker.session.s3_input(s3_data=s3_validation_file_location,content_type=\"csv\")"
   ]
  },
  {
   "cell_type": "code",
   "execution_count": 16,
   "metadata": {},
   "outputs": [
    {
     "name": "stdout",
     "output_type": "stream",
     "text": [
      "{'DataSource': {'S3DataSource': {'S3DataDistributionType': 'FullyReplicated', 'S3DataType': 'S3Prefix', 'S3Uri': 's3://arch-ml-bucket-us-east-1/biketrain/bike_train.csv'}}, 'ContentType': 'csv'}\n",
      "{'DataSource': {'S3DataSource': {'S3DataDistributionType': 'FullyReplicated', 'S3DataType': 'S3Prefix', 'S3Uri': 's3://arch-ml-bucket-us-east-1/biketrain/bike_validation.csv'}}, 'ContentType': 'csv'}\n"
     ]
    }
   ],
   "source": [
    "print(training_input_config.config)\n",
    "print(validation_input_config.config)"
   ]
  },
  {
   "cell_type": "code",
   "execution_count": 17,
   "metadata": {},
   "outputs": [
    {
     "name": "stderr",
     "output_type": "stream",
     "text": [
      "INFO:sagemaker:Creating training-job with name: xgboost-biketrain-v1-2019-04-28-04-24-39-638\n"
     ]
    },
    {
     "name": "stdout",
     "output_type": "stream",
     "text": [
      "2019-04-28 04:24:39 Starting - Starting the training job...\n",
      "2019-04-28 04:24:41 Starting - Launching requested ML instances......\n",
      "2019-04-28 04:25:49 Starting - Preparing the instances for training......\n",
      "2019-04-28 04:27:05 Downloading - Downloading input data\n",
      "2019-04-28 04:27:05 Training - Downloading the training image..\n",
      "\u001b[31mArguments: train\u001b[0m\n",
      "\u001b[31m[2019-04-28:04:27:16:INFO] Running standalone xgboost training.\u001b[0m\n",
      "\u001b[31m[2019-04-28:04:27:16:INFO] File size need to be processed in the node: 0.5mb. Available memory size in the node: 8405.0mb\u001b[0m\n",
      "\u001b[31m[2019-04-28:04:27:16:INFO] Determined delimiter of CSV input is ','\u001b[0m\n",
      "\u001b[31m[04:27:16] S3DistributionType set as FullyReplicated\u001b[0m\n",
      "\u001b[31m[04:27:16] 7620x13 matrix with 99060 entries loaded from /opt/ml/input/data/train?format=csv&label_column=0&delimiter=,\u001b[0m\n",
      "\u001b[31m[2019-04-28:04:27:16:INFO] Determined delimiter of CSV input is ','\u001b[0m\n",
      "\u001b[31m[04:27:16] S3DistributionType set as FullyReplicated\u001b[0m\n",
      "\u001b[31m[04:27:16] 3266x13 matrix with 42458 entries loaded from /opt/ml/input/data/validation?format=csv&label_column=0&delimiter=,\u001b[0m\n",
      "\u001b[31m[04:27:16] src/tree/updater_prune.cc:74: tree pruning end, 1 roots, 14 extra nodes, 0 pruned nodes, max_depth=3\u001b[0m\n",
      "\u001b[31m[0]#011train-rmse:205.978#011validation-rmse:204.58\u001b[0m\n",
      "\u001b[31m[04:27:16] src/tree/updater_prune.cc:74: tree pruning end, 1 roots, 14 extra nodes, 0 pruned nodes, max_depth=3\u001b[0m\n",
      "\u001b[31m[1]#011train-rmse:169.089#011validation-rmse:167.689\u001b[0m\n",
      "\u001b[31m[04:27:16] src/tree/updater_prune.cc:74: tree pruning end, 1 roots, 14 extra nodes, 0 pruned nodes, max_depth=3\u001b[0m\n",
      "\u001b[31m[2]#011train-rmse:146.251#011validation-rmse:144.811\u001b[0m\n",
      "\u001b[31m[04:27:16] src/tree/updater_prune.cc:74: tree pruning end, 1 roots, 14 extra nodes, 0 pruned nodes, max_depth=3\u001b[0m\n",
      "\u001b[31m[3]#011train-rmse:129.713#011validation-rmse:128.717\u001b[0m\n",
      "\u001b[31m[04:27:16] src/tree/updater_prune.cc:74: tree pruning end, 1 roots, 14 extra nodes, 0 pruned nodes, max_depth=3\u001b[0m\n",
      "\u001b[31m[4]#011train-rmse:119.46#011validation-rmse:118.578\u001b[0m\n",
      "\u001b[31m[04:27:16] src/tree/updater_prune.cc:74: tree pruning end, 1 roots, 14 extra nodes, 0 pruned nodes, max_depth=3\u001b[0m\n",
      "\u001b[31m[5]#011train-rmse:113.184#011validation-rmse:112.166\u001b[0m\n",
      "\u001b[31m[04:27:16] src/tree/updater_prune.cc:74: tree pruning end, 1 roots, 14 extra nodes, 0 pruned nodes, max_depth=3\u001b[0m\n",
      "\u001b[31m[6]#011train-rmse:108.844#011validation-rmse:107.975\u001b[0m\n",
      "\u001b[31m[04:27:16] src/tree/updater_prune.cc:74: tree pruning end, 1 roots, 14 extra nodes, 0 pruned nodes, max_depth=3\u001b[0m\n",
      "\u001b[31m[7]#011train-rmse:103.193#011validation-rmse:102.639\u001b[0m\n",
      "\u001b[31m[04:27:16] src/tree/updater_prune.cc:74: tree pruning end, 1 roots, 14 extra nodes, 0 pruned nodes, max_depth=3\u001b[0m\n",
      "\u001b[31m[8]#011train-rmse:100.152#011validation-rmse:100.004\u001b[0m\n",
      "\u001b[31m[04:27:16] src/tree/updater_prune.cc:74: tree pruning end, 1 roots, 14 extra nodes, 0 pruned nodes, max_depth=3\u001b[0m\n",
      "\u001b[31m[9]#011train-rmse:98.1696#011validation-rmse:98.2892\u001b[0m\n",
      "\u001b[31m[04:27:16] src/tree/updater_prune.cc:74: tree pruning end, 1 roots, 14 extra nodes, 0 pruned nodes, max_depth=3\u001b[0m\n",
      "\u001b[31m[10]#011train-rmse:96.3605#011validation-rmse:96.6319\u001b[0m\n",
      "\u001b[31m[04:27:16] src/tree/updater_prune.cc:74: tree pruning end, 1 roots, 14 extra nodes, 0 pruned nodes, max_depth=3\u001b[0m\n",
      "\u001b[31m[11]#011train-rmse:92.4647#011validation-rmse:93.2333\u001b[0m\n",
      "\u001b[31m[04:27:16] src/tree/updater_prune.cc:74: tree pruning end, 1 roots, 14 extra nodes, 0 pruned nodes, max_depth=3\u001b[0m\n",
      "\u001b[31m[12]#011train-rmse:90.8014#011validation-rmse:91.5714\u001b[0m\n",
      "\u001b[31m[04:27:16] src/tree/updater_prune.cc:74: tree pruning end, 1 roots, 14 extra nodes, 0 pruned nodes, max_depth=3\u001b[0m\n",
      "\u001b[31m[13]#011train-rmse:88.7644#011validation-rmse:89.8131\u001b[0m\n",
      "\u001b[31m[04:27:16] src/tree/updater_prune.cc:74: tree pruning end, 1 roots, 14 extra nodes, 0 pruned nodes, max_depth=3\u001b[0m\n",
      "\u001b[31m[14]#011train-rmse:88.0355#011validation-rmse:89.0921\u001b[0m\n",
      "\u001b[31m[04:27:16] src/tree/updater_prune.cc:74: tree pruning end, 1 roots, 14 extra nodes, 0 pruned nodes, max_depth=3\u001b[0m\n",
      "\u001b[31m[15]#011train-rmse:87.2214#011validation-rmse:88.3541\u001b[0m\n",
      "\u001b[31m[04:27:16] src/tree/updater_prune.cc:74: tree pruning end, 1 roots, 14 extra nodes, 0 pruned nodes, max_depth=3\u001b[0m\n",
      "\u001b[31m[16]#011train-rmse:86.3904#011validation-rmse:87.7309\u001b[0m\n",
      "\u001b[31m[04:27:16] src/tree/updater_prune.cc:74: tree pruning end, 1 roots, 14 extra nodes, 0 pruned nodes, max_depth=3\u001b[0m\n",
      "\u001b[31m[17]#011train-rmse:85.9465#011validation-rmse:87.2603\u001b[0m\n",
      "\u001b[31m[04:27:16] src/tree/updater_prune.cc:74: tree pruning end, 1 roots, 14 extra nodes, 0 pruned nodes, max_depth=3\u001b[0m\n",
      "\u001b[31m[18]#011train-rmse:85.2099#011validation-rmse:86.521\u001b[0m\n",
      "\u001b[31m[04:27:16] src/tree/updater_prune.cc:74: tree pruning end, 1 roots, 14 extra nodes, 0 pruned nodes, max_depth=3\u001b[0m\n",
      "\u001b[31m[19]#011train-rmse:84.2491#011validation-rmse:85.7937\u001b[0m\n",
      "\u001b[31m[04:27:16] src/tree/updater_prune.cc:74: tree pruning end, 1 roots, 14 extra nodes, 0 pruned nodes, max_depth=3\u001b[0m\n",
      "\u001b[31m[20]#011train-rmse:75.8568#011validation-rmse:77.9749\u001b[0m\n",
      "\u001b[31m[04:27:16] src/tree/updater_prune.cc:74: tree pruning end, 1 roots, 14 extra nodes, 0 pruned nodes, max_depth=3\u001b[0m\n",
      "\u001b[31m[21]#011train-rmse:74.823#011validation-rmse:76.9348\u001b[0m\n",
      "\u001b[31m[04:27:16] src/tree/updater_prune.cc:74: tree pruning end, 1 roots, 12 extra nodes, 0 pruned nodes, max_depth=3\u001b[0m\n",
      "\u001b[31m[04:27:16] src/tree/updater_prune.cc:74: tree pruning end, 1 roots, 14 extra nodes, 0 pruned nodes, max_depth=3\u001b[0m\n",
      "\u001b[31m[22]#011train-rmse:74.5386#011validation-rmse:76.6457\u001b[0m\n",
      "\u001b[31m[23]#011train-rmse:73.6623#011validation-rmse:75.8361\u001b[0m\n",
      "\u001b[31m[04:27:16] src/tree/updater_prune.cc:74: tree pruning end, 1 roots, 14 extra nodes, 0 pruned nodes, max_depth=3\u001b[0m\n",
      "\u001b[31m[24]#011train-rmse:73.248#011validation-rmse:75.4021\u001b[0m\n",
      "\u001b[31m[04:27:16] src/tree/updater_prune.cc:74: tree pruning end, 1 roots, 14 extra nodes, 0 pruned nodes, max_depth=3\u001b[0m\n",
      "\u001b[31m[25]#011train-rmse:70.5057#011validation-rmse:72.981\u001b[0m\n",
      "\u001b[31m[04:27:16] src/tree/updater_prune.cc:74: tree pruning end, 1 roots, 14 extra nodes, 0 pruned nodes, max_depth=3\u001b[0m\n",
      "\u001b[31m[26]#011train-rmse:70.1042#011validation-rmse:72.5164\u001b[0m\n",
      "\u001b[31m[04:27:16] src/tree/updater_prune.cc:74: tree pruning end, 1 roots, 14 extra nodes, 0 pruned nodes, max_depth=3\u001b[0m\n",
      "\u001b[31m[27]#011train-rmse:69.7475#011validation-rmse:72.2334\u001b[0m\n",
      "\u001b[31m[04:27:16] src/tree/updater_prune.cc:74: tree pruning end, 1 roots, 14 extra nodes, 0 pruned nodes, max_depth=3\u001b[0m\n",
      "\u001b[31m[28]#011train-rmse:69.0517#011validation-rmse:71.6395\u001b[0m\n",
      "\u001b[31m[04:27:16] src/tree/updater_prune.cc:74: tree pruning end, 1 roots, 14 extra nodes, 0 pruned nodes, max_depth=3\u001b[0m\n",
      "\u001b[31m[29]#011train-rmse:68.8037#011validation-rmse:71.4513\u001b[0m\n",
      "\u001b[31m[04:27:16] src/tree/updater_prune.cc:74: tree pruning end, 1 roots, 12 extra nodes, 0 pruned nodes, max_depth=3\u001b[0m\n",
      "\u001b[31m[30]#011train-rmse:68.5574#011validation-rmse:71.1339\u001b[0m\n",
      "\u001b[31m[04:27:16] src/tree/updater_prune.cc:74: tree pruning end, 1 roots, 14 extra nodes, 0 pruned nodes, max_depth=3\u001b[0m\n",
      "\u001b[31m[31]#011train-rmse:68.37#011validation-rmse:71.0351\u001b[0m\n",
      "\u001b[31m[04:27:16] src/tree/updater_prune.cc:74: tree pruning end, 1 roots, 14 extra nodes, 0 pruned nodes, max_depth=3\u001b[0m\n",
      "\u001b[31m[32]#011train-rmse:68.2298#011validation-rmse:70.909\u001b[0m\n",
      "\u001b[31m[04:27:16] src/tree/updater_prune.cc:74: tree pruning end, 1 roots, 14 extra nodes, 0 pruned nodes, max_depth=3\u001b[0m\n",
      "\u001b[31m[33]#011train-rmse:65.9239#011validation-rmse:68.8594\u001b[0m\n",
      "\u001b[31m[04:27:16] src/tree/updater_prune.cc:74: tree pruning end, 1 roots, 14 extra nodes, 0 pruned nodes, max_depth=3\u001b[0m\n",
      "\u001b[31m[34]#011train-rmse:65.7621#011validation-rmse:68.7144\u001b[0m\n",
      "\u001b[31m[04:27:16] src/tree/updater_prune.cc:74: tree pruning end, 1 roots, 14 extra nodes, 0 pruned nodes, max_depth=3\u001b[0m\n",
      "\u001b[31m[35]#011train-rmse:65.6331#011validation-rmse:68.6494\u001b[0m\n",
      "\u001b[31m[04:27:16] src/tree/updater_prune.cc:74: tree pruning end, 1 roots, 14 extra nodes, 0 pruned nodes, max_depth=3\u001b[0m\n",
      "\u001b[31m[36]#011train-rmse:65.411#011validation-rmse:68.558\u001b[0m\n",
      "\u001b[31m[04:27:16] src/tree/updater_prune.cc:74: tree pruning end, 1 roots, 14 extra nodes, 0 pruned nodes, max_depth=3\u001b[0m\n",
      "\u001b[31m[37]#011train-rmse:64.8389#011validation-rmse:68.0404\u001b[0m\n",
      "\u001b[31m[04:27:16] src/tree/updater_prune.cc:74: tree pruning end, 1 roots, 14 extra nodes, 0 pruned nodes, max_depth=3\u001b[0m\n",
      "\u001b[31m[38]#011train-rmse:63.465#011validation-rmse:66.7587\u001b[0m\n",
      "\u001b[31m[04:27:16] src/tree/updater_prune.cc:74: tree pruning end, 1 roots, 14 extra nodes, 0 pruned nodes, max_depth=3\u001b[0m\n",
      "\u001b[31m[39]#011train-rmse:61.8196#011validation-rmse:65.1494\u001b[0m\n",
      "\u001b[31m[04:27:16] src/tree/updater_prune.cc:74: tree pruning end, 1 roots, 14 extra nodes, 0 pruned nodes, max_depth=3\u001b[0m\n",
      "\u001b[31m[40]#011train-rmse:61.6673#011validation-rmse:65.0054\u001b[0m\n",
      "\u001b[31m[04:27:16] src/tree/updater_prune.cc:74: tree pruning end, 1 roots, 12 extra nodes, 0 pruned nodes, max_depth=3\u001b[0m\n",
      "\u001b[31m[41]#011train-rmse:61.5109#011validation-rmse:64.8665\u001b[0m\n",
      "\u001b[31m[04:27:16] src/tree/updater_prune.cc:74: tree pruning end, 1 roots, 14 extra nodes, 0 pruned nodes, max_depth=3\u001b[0m\n",
      "\u001b[31m[42]#011train-rmse:61.3265#011validation-rmse:64.7474\u001b[0m\n",
      "\u001b[31m[04:27:16] src/tree/updater_prune.cc:74: tree pruning end, 1 roots, 14 extra nodes, 0 pruned nodes, max_depth=3\u001b[0m\n",
      "\u001b[31m[43]#011train-rmse:61.0272#011validation-rmse:64.5472\u001b[0m\n",
      "\u001b[31m[04:27:16] src/tree/updater_prune.cc:74: tree pruning end, 1 roots, 14 extra nodes, 0 pruned nodes, max_depth=3\u001b[0m\n",
      "\u001b[31m[44]#011train-rmse:59.2475#011validation-rmse:62.8093\u001b[0m\n",
      "\u001b[31m[04:27:16] src/tree/updater_prune.cc:74: tree pruning end, 1 roots, 14 extra nodes, 0 pruned nodes, max_depth=3\u001b[0m\n",
      "\u001b[31m[45]#011train-rmse:58.76#011validation-rmse:62.408\u001b[0m\n",
      "\u001b[31m[04:27:16] src/tree/updater_prune.cc:74: tree pruning end, 1 roots, 14 extra nodes, 0 pruned nodes, max_depth=3\u001b[0m\n",
      "\u001b[31m[46]#011train-rmse:58.6516#011validation-rmse:62.3447\u001b[0m\n",
      "\u001b[31m[04:27:16] src/tree/updater_prune.cc:74: tree pruning end, 1 roots, 14 extra nodes, 0 pruned nodes, max_depth=3\u001b[0m\n",
      "\u001b[31m[47]#011train-rmse:58.5149#011validation-rmse:62.2444\u001b[0m\n",
      "\u001b[31m[04:27:16] src/tree/updater_prune.cc:74: tree pruning end, 1 roots, 14 extra nodes, 0 pruned nodes, max_depth=3\u001b[0m\n",
      "\u001b[31m[48]#011train-rmse:58.0443#011validation-rmse:61.81\u001b[0m\n",
      "\u001b[31m[04:27:16] src/tree/updater_prune.cc:74: tree pruning end, 1 roots, 14 extra nodes, 0 pruned nodes, max_depth=3\u001b[0m\n",
      "\u001b[31m[49]#011train-rmse:56.9374#011validation-rmse:60.7583\u001b[0m\n",
      "\u001b[31m[04:27:16] src/tree/updater_prune.cc:74: tree pruning end, 1 roots, 14 extra nodes, 0 pruned nodes, max_depth=3\u001b[0m\n",
      "\u001b[31m[50]#011train-rmse:56.874#011validation-rmse:60.7115\u001b[0m\n",
      "\u001b[31m[04:27:16] src/tree/updater_prune.cc:74: tree pruning end, 1 roots, 14 extra nodes, 0 pruned nodes, max_depth=3\u001b[0m\n",
      "\u001b[31m[51]#011train-rmse:56.7469#011validation-rmse:60.6151\u001b[0m\n",
      "\u001b[31m[04:27:16] src/tree/updater_prune.cc:74: tree pruning end, 1 roots, 14 extra nodes, 0 pruned nodes, max_depth=3\u001b[0m\n",
      "\u001b[31m[52]#011train-rmse:56.6159#011validation-rmse:60.5482\u001b[0m\n",
      "\u001b[31m[04:27:16] src/tree/updater_prune.cc:74: tree pruning end, 1 roots, 14 extra nodes, 0 pruned nodes, max_depth=3\u001b[0m\n",
      "\u001b[31m[53]#011train-rmse:56.471#011validation-rmse:60.4242\u001b[0m\n",
      "\u001b[31m[04:27:16] src/tree/updater_prune.cc:74: tree pruning end, 1 roots, 14 extra nodes, 0 pruned nodes, max_depth=3\u001b[0m\n",
      "\u001b[31m[54]#011train-rmse:56.3476#011validation-rmse:60.3173\u001b[0m\n",
      "\u001b[31m[04:27:16] src/tree/updater_prune.cc:74: tree pruning end, 1 roots, 8 extra nodes, 0 pruned nodes, max_depth=3\u001b[0m\n",
      "\u001b[31m[55]#011train-rmse:56.2996#011validation-rmse:60.2682\u001b[0m\n",
      "\u001b[31m[04:27:16] src/tree/updater_prune.cc:74: tree pruning end, 1 roots, 14 extra nodes, 0 pruned nodes, max_depth=3\u001b[0m\n",
      "\u001b[31m[56]#011train-rmse:56.2218#011validation-rmse:60.2168\u001b[0m\n",
      "\u001b[31m[04:27:16] src/tree/updater_prune.cc:74: tree pruning end, 1 roots, 14 extra nodes, 0 pruned nodes, max_depth=3\u001b[0m\n",
      "\u001b[31m[57]#011train-rmse:56.1225#011validation-rmse:60.1558\u001b[0m\n",
      "\u001b[31m[04:27:16] src/tree/updater_prune.cc:74: tree pruning end, 1 roots, 14 extra nodes, 0 pruned nodes, max_depth=3\u001b[0m\n",
      "\u001b[31m[58]#011train-rmse:56.0257#011validation-rmse:60.087\u001b[0m\n",
      "\u001b[31m[04:27:16] src/tree/updater_prune.cc:74: tree pruning end, 1 roots, 14 extra nodes, 0 pruned nodes, max_depth=3\u001b[0m\n",
      "\u001b[31m[59]#011train-rmse:55.996#011validation-rmse:60.0736\u001b[0m\n",
      "\u001b[31m[04:27:16] src/tree/updater_prune.cc:74: tree pruning end, 1 roots, 8 extra nodes, 0 pruned nodes, max_depth=3\u001b[0m\n",
      "\u001b[31m[60]#011train-rmse:55.9736#011validation-rmse:60.065\u001b[0m\n",
      "\u001b[31m[04:27:16] src/tree/updater_prune.cc:74: tree pruning end, 1 roots, 8 extra nodes, 0 pruned nodes, max_depth=3\u001b[0m\n",
      "\u001b[31m[61]#011train-rmse:55.9439#011validation-rmse:60.045\u001b[0m\n",
      "\u001b[31m[04:27:16] src/tree/updater_prune.cc:74: tree pruning end, 1 roots, 14 extra nodes, 0 pruned nodes, max_depth=3\u001b[0m\n",
      "\u001b[31m[62]#011train-rmse:55.5282#011validation-rmse:59.6045\u001b[0m\n",
      "\u001b[31m[04:27:16] src/tree/updater_prune.cc:74: tree pruning end, 1 roots, 14 extra nodes, 0 pruned nodes, max_depth=3\u001b[0m\n",
      "\u001b[31m[63]#011train-rmse:55.3487#011validation-rmse:59.3905\u001b[0m\n",
      "\u001b[31m[04:27:16] src/tree/updater_prune.cc:74: tree pruning end, 1 roots, 14 extra nodes, 0 pruned nodes, max_depth=3\u001b[0m\n",
      "\u001b[31m[64]#011train-rmse:55.225#011validation-rmse:59.3039\u001b[0m\n",
      "\u001b[31m[04:27:16] src/tree/updater_prune.cc:74: tree pruning end, 1 roots, 14 extra nodes, 0 pruned nodes, max_depth=3\u001b[0m\n",
      "\u001b[31m[65]#011train-rmse:54.9921#011validation-rmse:59.0853\u001b[0m\n",
      "\u001b[31m[04:27:16] src/tree/updater_prune.cc:74: tree pruning end, 1 roots, 14 extra nodes, 0 pruned nodes, max_depth=3\u001b[0m\n",
      "\u001b[31m[66]#011train-rmse:54.1863#011validation-rmse:58.3295\u001b[0m\n",
      "\u001b[31m[04:27:16] src/tree/updater_prune.cc:74: tree pruning end, 1 roots, 14 extra nodes, 0 pruned nodes, max_depth=3\u001b[0m\n",
      "\u001b[31m[67]#011train-rmse:53.7977#011validation-rmse:57.9611\u001b[0m\n",
      "\u001b[31m[04:27:16] src/tree/updater_prune.cc:74: tree pruning end, 1 roots, 14 extra nodes, 0 pruned nodes, max_depth=3\u001b[0m\n",
      "\u001b[31m[68]#011train-rmse:53.7348#011validation-rmse:57.9237\u001b[0m\n",
      "\u001b[31m[04:27:16] src/tree/updater_prune.cc:74: tree pruning end, 1 roots, 10 extra nodes, 0 pruned nodes, max_depth=3\u001b[0m\n",
      "\u001b[31m[69]#011train-rmse:53.7103#011validation-rmse:57.9121\u001b[0m\n",
      "\u001b[31m[04:27:16] src/tree/updater_prune.cc:74: tree pruning end, 1 roots, 14 extra nodes, 0 pruned nodes, max_depth=3\u001b[0m\n",
      "\u001b[31m[70]#011train-rmse:53.442#011validation-rmse:57.6539\u001b[0m\n",
      "\u001b[31m[04:27:16] src/tree/updater_prune.cc:74: tree pruning end, 1 roots, 14 extra nodes, 0 pruned nodes, max_depth=3\u001b[0m\n",
      "\u001b[31m[71]#011train-rmse:53.2974#011validation-rmse:57.4929\u001b[0m\n",
      "\u001b[31m[04:27:16] src/tree/updater_prune.cc:74: tree pruning end, 1 roots, 14 extra nodes, 0 pruned nodes, max_depth=3\u001b[0m\n",
      "\u001b[31m[72]#011train-rmse:53.2652#011validation-rmse:57.4711\u001b[0m\n",
      "\u001b[31m[04:27:17] src/tree/updater_prune.cc:74: tree pruning end, 1 roots, 14 extra nodes, 0 pruned nodes, max_depth=3\u001b[0m\n",
      "\u001b[31m[73]#011train-rmse:53.1903#011validation-rmse:57.4452\u001b[0m\n",
      "\u001b[31m[04:27:17] src/tree/updater_prune.cc:74: tree pruning end, 1 roots, 14 extra nodes, 0 pruned nodes, max_depth=3\u001b[0m\n",
      "\u001b[31m[74]#011train-rmse:53.0995#011validation-rmse:57.3624\u001b[0m\n",
      "\u001b[31m[04:27:17] src/tree/updater_prune.cc:74: tree pruning end, 1 roots, 14 extra nodes, 0 pruned nodes, max_depth=3\u001b[0m\n",
      "\u001b[31m[75]#011train-rmse:52.8629#011validation-rmse:57.1683\u001b[0m\n",
      "\u001b[31m[04:27:17] src/tree/updater_prune.cc:74: tree pruning end, 1 roots, 14 extra nodes, 0 pruned nodes, max_depth=3\u001b[0m\n",
      "\u001b[31m[76]#011train-rmse:52.7839#011validation-rmse:57.0818\u001b[0m\n",
      "\u001b[31m[04:27:17] src/tree/updater_prune.cc:74: tree pruning end, 1 roots, 14 extra nodes, 0 pruned nodes, max_depth=3\u001b[0m\n",
      "\u001b[31m[77]#011train-rmse:52.6794#011validation-rmse:57.0735\u001b[0m\n",
      "\u001b[31m[04:27:17] src/tree/updater_prune.cc:74: tree pruning end, 1 roots, 14 extra nodes, 0 pruned nodes, max_depth=3\u001b[0m\n",
      "\u001b[31m[78]#011train-rmse:52.5057#011validation-rmse:56.9388\u001b[0m\n",
      "\u001b[31m[04:27:17] src/tree/updater_prune.cc:74: tree pruning end, 1 roots, 14 extra nodes, 0 pruned nodes, max_depth=3\u001b[0m\n",
      "\u001b[31m[79]#011train-rmse:52.258#011validation-rmse:56.6858\u001b[0m\n",
      "\u001b[31m[04:27:17] src/tree/updater_prune.cc:74: tree pruning end, 1 roots, 14 extra nodes, 0 pruned nodes, max_depth=3\u001b[0m\n",
      "\u001b[31m[80]#011train-rmse:52.1276#011validation-rmse:56.5835\u001b[0m\n",
      "\u001b[31m[04:27:17] src/tree/updater_prune.cc:74: tree pruning end, 1 roots, 14 extra nodes, 0 pruned nodes, max_depth=3\u001b[0m\n",
      "\u001b[31m[81]#011train-rmse:51.8913#011validation-rmse:56.4089\u001b[0m\n",
      "\u001b[31m[04:27:17] src/tree/updater_prune.cc:74: tree pruning end, 1 roots, 14 extra nodes, 0 pruned nodes, max_depth=3\u001b[0m\n",
      "\u001b[31m[82]#011train-rmse:51.8351#011validation-rmse:56.3771\u001b[0m\n",
      "\u001b[31m[04:27:17] src/tree/updater_prune.cc:74: tree pruning end, 1 roots, 6 extra nodes, 0 pruned nodes, max_depth=3\u001b[0m\n",
      "\u001b[31m[83]#011train-rmse:51.8281#011validation-rmse:56.3723\u001b[0m\n",
      "\u001b[31m[04:27:17] src/tree/updater_prune.cc:74: tree pruning end, 1 roots, 14 extra nodes, 0 pruned nodes, max_depth=3\u001b[0m\n",
      "\u001b[31m[84]#011train-rmse:51.5101#011validation-rmse:56.079\u001b[0m\n",
      "\u001b[31m[04:27:17] src/tree/updater_prune.cc:74: tree pruning end, 1 roots, 14 extra nodes, 0 pruned nodes, max_depth=3\u001b[0m\n",
      "\u001b[31m[85]#011train-rmse:51.3633#011validation-rmse:55.9088\u001b[0m\n",
      "\u001b[31m[04:27:17] src/tree/updater_prune.cc:74: tree pruning end, 1 roots, 14 extra nodes, 0 pruned nodes, max_depth=3\u001b[0m\n",
      "\u001b[31m[86]#011train-rmse:51.171#011validation-rmse:55.7148\u001b[0m\n",
      "\u001b[31m[04:27:17] src/tree/updater_prune.cc:74: tree pruning end, 1 roots, 10 extra nodes, 0 pruned nodes, max_depth=3\u001b[0m\n",
      "\u001b[31m[87]#011train-rmse:51.1519#011validation-rmse:55.7028\u001b[0m\n",
      "\u001b[31m[04:27:17] src/tree/updater_prune.cc:74: tree pruning end, 1 roots, 8 extra nodes, 0 pruned nodes, max_depth=3\u001b[0m\n",
      "\u001b[31m[88]#011train-rmse:51.1458#011validation-rmse:55.7057\u001b[0m\n",
      "\u001b[31m[04:27:17] src/tree/updater_prune.cc:74: tree pruning end, 1 roots, 14 extra nodes, 0 pruned nodes, max_depth=3\u001b[0m\n",
      "\u001b[31m[89]#011train-rmse:51.0692#011validation-rmse:55.6306\u001b[0m\n",
      "\u001b[31m[04:27:17] src/tree/updater_prune.cc:74: tree pruning end, 1 roots, 14 extra nodes, 0 pruned nodes, max_depth=3\u001b[0m\n",
      "\u001b[31m[90]#011train-rmse:50.9769#011validation-rmse:55.5209\u001b[0m\n",
      "\u001b[31m[04:27:17] src/tree/updater_prune.cc:74: tree pruning end, 1 roots, 14 extra nodes, 0 pruned nodes, max_depth=3\u001b[0m\n",
      "\u001b[31m[91]#011train-rmse:50.8917#011validation-rmse:55.5016\u001b[0m\n",
      "\u001b[31m[04:27:17] src/tree/updater_prune.cc:74: tree pruning end, 1 roots, 14 extra nodes, 0 pruned nodes, max_depth=3\u001b[0m\n",
      "\u001b[31m[92]#011train-rmse:50.7728#011validation-rmse:55.3917\u001b[0m\n",
      "\u001b[31m[04:27:17] src/tree/updater_prune.cc:74: tree pruning end, 1 roots, 14 extra nodes, 0 pruned nodes, max_depth=3\u001b[0m\n",
      "\u001b[31m[93]#011train-rmse:50.6272#011validation-rmse:55.1973\u001b[0m\n",
      "\u001b[31m[04:27:17] src/tree/updater_prune.cc:74: tree pruning end, 1 roots, 14 extra nodes, 0 pruned nodes, max_depth=3\u001b[0m\n",
      "\u001b[31m[94]#011train-rmse:50.5535#011validation-rmse:55.1312\u001b[0m\n",
      "\u001b[31m[04:27:17] src/tree/updater_prune.cc:74: tree pruning end, 1 roots, 14 extra nodes, 0 pruned nodes, max_depth=3\u001b[0m\n",
      "\u001b[31m[95]#011train-rmse:50.4597#011validation-rmse:55.0553\u001b[0m\n",
      "\u001b[31m[04:27:17] src/tree/updater_prune.cc:74: tree pruning end, 1 roots, 14 extra nodes, 0 pruned nodes, max_depth=3\u001b[0m\n",
      "\u001b[31m[96]#011train-rmse:50.3495#011validation-rmse:54.9862\u001b[0m\n",
      "\u001b[31m[04:27:17] src/tree/updater_prune.cc:74: tree pruning end, 1 roots, 8 extra nodes, 0 pruned nodes, max_depth=3\u001b[0m\n",
      "\u001b[31m[97]#011train-rmse:50.3413#011validation-rmse:54.9758\u001b[0m\n",
      "\u001b[31m[04:27:17] src/tree/updater_prune.cc:74: tree pruning end, 1 roots, 14 extra nodes, 0 pruned nodes, max_depth=3\u001b[0m\n",
      "\u001b[31m[98]#011train-rmse:50.3125#011validation-rmse:54.9765\u001b[0m\n",
      "\u001b[31m[04:27:17] src/tree/updater_prune.cc:74: tree pruning end, 1 roots, 14 extra nodes, 0 pruned nodes, max_depth=3\u001b[0m\n",
      "\u001b[31m[99]#011train-rmse:50.2616#011validation-rmse:54.9561\u001b[0m\n"
     ]
    },
    {
     "name": "stdout",
     "output_type": "stream",
     "text": [
      "\n",
      "2019-04-28 04:27:29 Uploading - Uploading generated training model\n",
      "2019-04-28 04:27:29 Completed - Training job completed\n",
      "Billable seconds: 40\n"
     ]
    }
   ],
   "source": [
    "# XGBoost supports \"train\", \"validation\" channels\n",
    "# Reference: Supported channels by algorithm\n",
    "#   https://docs.aws.amazon.com/sagemaker/latest/dg/sagemaker-algo-docker-registry-paths.html\n",
    "estimator.fit({'train':training_input_config, 'validation':validation_input_config})"
   ]
  },
  {
   "cell_type": "markdown",
   "metadata": {},
   "source": [
    "## Deploy Model"
   ]
  },
  {
   "cell_type": "code",
   "execution_count": 2,
   "metadata": {},
   "outputs": [],
   "source": [
    "# Ref: http://sagemaker.readthedocs.io/en/latest/estimators.html\n",
    "# predictor = estimator.deploy(initial_instance_count=1,\n",
    "#                              instance_type='ml.t2.medium',\n",
    "#                              endpoint_name = 'xgboost-biketrain-v1')"
   ]
  },
  {
   "cell_type": "code",
   "execution_count": 27,
   "metadata": {},
   "outputs": [],
   "source": [
    "model = sagemaker.model.Model(model_data='https://s3.amazonaws.com/arch-ml-bucket-us-east-1/biketrain/model/xgboost-biketrain-v1-2019-04-28-04-24-39-638/output/model.tar.gz', \n",
    "                              image=containers[boto3.Session().region_name],\n",
    "                             role=role)"
   ]
  },
  {
   "cell_type": "code",
   "execution_count": 28,
   "metadata": {},
   "outputs": [
    {
     "name": "stderr",
     "output_type": "stream",
     "text": [
      "INFO:sagemaker:Creating model with name: xgboost-2019-04-28-14-17-01-673\n",
      "INFO:sagemaker:Creating endpoint with name xgboost-2019-04-28-14-17-01-673\n"
     ]
    },
    {
     "name": "stdout",
     "output_type": "stream",
     "text": [
      "---------------------------------------------------------------------------------------------------!"
     ]
    }
   ],
   "source": [
    "model.deploy(initial_instance_count=1, instance_type='ml.t2.medium')"
   ]
  },
  {
   "cell_type": "markdown",
   "metadata": {},
   "source": [
    "## Run Predictions"
   ]
  },
  {
   "cell_type": "code",
   "execution_count": 30,
   "metadata": {},
   "outputs": [],
   "source": [
    "endpoint_name = 'xgboost-2019-04-28-14-17-01-673'\n",
    "predictor = sagemaker.predictor.RealTimePredictor(endpoint=endpoint_name)"
   ]
  },
  {
   "cell_type": "code",
   "execution_count": 31,
   "metadata": {},
   "outputs": [],
   "source": [
    "from sagemaker.predictor import csv_serializer, json_deserializer\n",
    "\n",
    "predictor.content_type = 'text/csv'\n",
    "predictor.serializer = csv_serializer\n",
    "predictor.deserializer = None"
   ]
  },
  {
   "cell_type": "code",
   "execution_count": 32,
   "metadata": {},
   "outputs": [
    {
     "data": {
      "text/plain": [
       "b'32.7826042175'"
      ]
     },
     "execution_count": 32,
     "metadata": {},
     "output_type": "execute_result"
    }
   ],
   "source": [
    "predictor.predict([[3,0,1,2,28.7,33.335,79,12.998,2011,7,7,3]])"
   ]
  },
  {
   "cell_type": "code",
   "execution_count": null,
   "metadata": {},
   "outputs": [],
   "source": []
  }
 ],
 "metadata": {
  "kernelspec": {
   "display_name": "conda_tensorflow_p36",
   "language": "python",
   "name": "conda_tensorflow_p36"
  },
  "language_info": {
   "codemirror_mode": {
    "name": "ipython",
    "version": 3
   },
   "file_extension": ".py",
   "mimetype": "text/x-python",
   "name": "python",
   "nbconvert_exporter": "python",
   "pygments_lexer": "ipython3",
   "version": "3.6.5"
  }
 },
 "nbformat": 4,
 "nbformat_minor": 2
}
